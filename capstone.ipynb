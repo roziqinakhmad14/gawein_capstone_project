{
  "nbformat": 4,
  "nbformat_minor": 0,
  "metadata": {
    "colab": {
      "provenance": []
    },
    "kernelspec": {
      "name": "python3",
      "display_name": "Python 3"
    },
    "language_info": {
      "name": "python"
    }
  },
  "cells": [
    {
      "cell_type": "code",
      "source": [
        "from google.colab import drive\n",
        "drive.mount('/content/drive')"
      ],
      "metadata": {
        "colab": {
          "base_uri": "https://localhost:8080/"
        },
        "id": "WyGkE1ksbTw0",
        "outputId": "d643ed0c-e5bc-4502-b4d2-dec5f7e5ba2f"
      },
      "execution_count": null,
      "outputs": [
        {
          "output_type": "stream",
          "name": "stdout",
          "text": [
            "Mounted at /content/drive\n"
          ]
        }
      ]
    },
    {
      "cell_type": "code",
      "source": [
        "import PyPDF2 as pdf2\n",
        "import pytesseract"
      ],
      "metadata": {
        "id": "IHaz2aaSS85-"
      },
      "execution_count": null,
      "outputs": []
    },
    {
      "cell_type": "code",
      "source": [
        "obj = open('Profile (1).pdf', 'rb')\n",
        "\n",
        "reader = pdf2.PdfReader(obj)\n",
        "\n",
        "print(len(reader.pages)) "
      ],
      "metadata": {
        "colab": {
          "base_uri": "https://localhost:8080/"
        },
        "id": "ZZnwCTh2UdgA",
        "outputId": "e3070898-7d23-4645-b30a-71d681bdc26a"
      },
      "execution_count": null,
      "outputs": [
        {
          "output_type": "stream",
          "name": "stdout",
          "text": [
            "1\n"
          ]
        }
      ]
    },
    {
      "cell_type": "code",
      "source": [
        "page = reader.pages[0]\n",
        "\n",
        "print(page.extract_text())"
      ],
      "metadata": {
        "colab": {
          "base_uri": "https://localhost:8080/"
        },
        "id": "sGjt7JBwU-aC",
        "outputId": "20df5541-3051-401f-90b0-fbb985e48ad0"
      },
      "execution_count": null,
      "outputs": [
        {
          "output_type": "stream",
          "name": "stdout",
          "text": [
            "   \n",
            "Contact\n",
            "www.linkedin.com/in/suman-\n",
            "gadhawal-bab941121  (LinkedIn)\n",
            "Top Skills\n",
            "Python\n",
            "C++\n",
            "NumPySuman Gadhawal\n",
            "IITB | Machine Learning | Python\n",
            "East Delhi, Delhi, India\n",
            "Summary\n",
            "Experienced Python Developer with a demonstrated history\n",
            "of working in the industrial engineering industry . Skilled in\n",
            "Mathematical Modeling, Matlab, Python, Probability Theory, and\n",
            "Analytical Skills(Pandas,Matplotlib,Numpy,Decision Tree and\n",
            "random forecast,seaborn etc). Strong engineering professional\n",
            "graduated from Indian Institute of Technology, Bombay. \n",
            "Experience\n",
            "Code Flow Tech LLP\n",
            "Machine Learning Researcher\n",
            "October 2018 - Present  (1 year 6 months)\n",
            "Noida Area, India\n",
            "Romax Technology\n",
            "Software Developer\n",
            "May 2017 - September 2018  (1 year 5 months)\n",
            "Education\n",
            "Indian Institute of Technology, Bombay\n",
            "Master's degree, Mathematics  · (2015 - 2017)\n",
            "  Page 1 of 1\n"
          ]
        }
      ]
    },
    {
      "cell_type": "code",
      "source": [
        "name = obj.page\n",
        "print(name) "
      ],
      "metadata": {
        "id": "rMvD5WAyYwv3",
        "colab": {
          "base_uri": "https://localhost:8080/",
          "height": 183
        },
        "outputId": "c44d65ec-6e5c-438f-faa7-38b0a87de5d7"
      },
      "execution_count": null,
      "outputs": [
        {
          "output_type": "error",
          "ename": "AttributeError",
          "evalue": "ignored",
          "traceback": [
            "\u001b[0;31m---------------------------------------------------------------------------\u001b[0m",
            "\u001b[0;31mAttributeError\u001b[0m                            Traceback (most recent call last)",
            "\u001b[0;32m<ipython-input-18-2e59623fa65f>\u001b[0m in \u001b[0;36m<cell line: 1>\u001b[0;34m()\u001b[0m\n\u001b[0;32m----> 1\u001b[0;31m \u001b[0mname\u001b[0m \u001b[0;34m=\u001b[0m \u001b[0mobj\u001b[0m\u001b[0;34m.\u001b[0m\u001b[0mpage\u001b[0m\u001b[0;34m\u001b[0m\u001b[0;34m\u001b[0m\u001b[0m\n\u001b[0m\u001b[1;32m      2\u001b[0m \u001b[0mprint\u001b[0m\u001b[0;34m(\u001b[0m\u001b[0mname\u001b[0m\u001b[0;34m)\u001b[0m\u001b[0;34m\u001b[0m\u001b[0;34m\u001b[0m\u001b[0m\n",
            "\u001b[0;31mAttributeError\u001b[0m: '_io.BufferedReader' object has no attribute 'page'"
          ]
        }
      ]
    }
  ]
}