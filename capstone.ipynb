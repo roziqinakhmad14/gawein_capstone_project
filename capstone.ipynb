{
 "cells": [
  {
   "cell_type": "code",
   "execution_count": 1,
   "metadata": {},
   "outputs": [],
   "source": [
    "import PyPDF2 as pdf\n",
    "from pdfminer.high_level import extract_text\n",
    "import tabula\n",
    "import re"
   ]
  },
  {
   "cell_type": "code",
   "execution_count": 55,
   "metadata": {},
   "outputs": [],
   "source": [
    "file = open(\"dataset/Profile (23).pdf\", \"rb\")"
   ]
  },
  {
   "cell_type": "markdown",
   "metadata": {},
   "source": [
    "## Extract PDF using pypdf2"
   ]
  },
  {
   "cell_type": "code",
   "execution_count": 68,
   "metadata": {},
   "outputs": [
    {
     "name": "stdout",
     "output_type": "stream",
     "text": [
      "   \n",
      "Contact\n",
      "www.linkedin.com/in/ashish4rawat\n",
      "(LinkedIn)\n",
      "Top Skills\n",
      "Java\n",
      "Android Development\n",
      "FirebaseAshish Rawat\n",
      "Software Engineer Intern at Amazon\n",
      "New Delhi Area, India\n",
      "Experience\n",
      "Amazon\n",
      "Software Engineer Intern\n",
      "January 2020 - Present  (3 months)\n",
      "Bengaluru Area, India\n",
      "Halanx\n",
      "Android Developer Intern\n",
      "July 2019 - August 2019  (2 months)\n",
      "Delhi Area, India\n",
      "Crimson Insights\n",
      "Android Developer Intern\n",
      "July 2018 - August 2018  (2 months)\n",
      "Rent-O-Roof\n",
      "Android Developer Intern\n",
      "February 2018 - April 2018  (3 months)\n",
      "Student Zone\n",
      "Android Developer Intern\n",
      "October 2017 - January 2018  (4 months)\n",
      "Education\n",
      "Guru Gobind Singh Indraprastha University\n",
      "Bachelor of Technology - BTech, Computer Science  · (2016 - 2020)\n",
      "Kendriya Vidyalaya\n",
      "XII  · (2016)\n",
      "Kendriya Vidyalaya\n",
      "Xth  · (2014)\n",
      "  Page 1 of 1\n"
     ]
    }
   ],
   "source": [
    "reader = pdf.PdfReader(file)\n",
    "print(reader.pages[0].extract_text())"
   ]
  },
  {
   "cell_type": "markdown",
   "metadata": {},
   "source": [
    "## Extract PDF using pdfminer"
   ]
  },
  {
   "cell_type": "code",
   "execution_count": 69,
   "metadata": {},
   "outputs": [],
   "source": [
    "text = extract_text(file)"
   ]
  },
  {
   "cell_type": "code",
   "execution_count": 113,
   "metadata": {},
   "outputs": [
    {
     "data": {
      "text/plain": [
       "['Ashish Rawat',\n",
       " 'Software Engineer Intern at Amazon',\n",
       " 'New Delhi Area',\n",
       " 'Top Skills',\n",
       " 'Android Development',\n",
       " 'Software Engineer Intern',\n",
       " 'Bengaluru Area',\n",
       " 'Android Developer Intern',\n",
       " 'Delhi Area',\n",
       " 'Crimson Insights',\n",
       " 'Android Developer Intern',\n",
       " 'Android Developer Intern',\n",
       " 'Student Zone',\n",
       " 'Android Developer Intern',\n",
       " 'Guru Gobind Singh Indraprastha University',\n",
       " 'Computer Science',\n",
       " 'Kendriya Vidyalaya',\n",
       " 'Kendriya Vidyalaya']"
      ]
     },
     "execution_count": 113,
     "metadata": {},
     "output_type": "execute_result"
    }
   ],
   "source": [
    "pattern1 = re.compile(r'[A-Z][a-z]+ [A-Z][a-zA-Z ]+')\n",
    "pattern1.findall(text)"
   ]
  },
  {
   "cell_type": "code",
   "execution_count": 59,
   "metadata": {},
   "outputs": [
    {
     "data": {
      "text/plain": [
       "'www.linkedin.com/in/ashish4rawat'"
      ]
     },
     "execution_count": 59,
     "metadata": {},
     "output_type": "execute_result"
    }
   ],
   "source": [
    "pattern2 = re.compile(r'www.linkedin.com/in/[a-z0-9-\\n]+')\n",
    "result2 = pattern2.search(text)[0]\n",
    "\n",
    "if result2 != None:\n",
    "    linkedin = ''.join(result2.split('\\n'))\n",
    "else:\n",
    "    linkedin = ''\n",
    "    \n",
    "linkedin"
   ]
  },
  {
   "cell_type": "code",
   "execution_count": 60,
   "metadata": {},
   "outputs": [
    {
     "data": {
      "text/plain": [
       "''"
      ]
     },
     "execution_count": 60,
     "metadata": {},
     "output_type": "execute_result"
    }
   ],
   "source": [
    "pattern3 = re.compile(r'[a-z]+@[a-z.]+')\n",
    "result3 = pattern3.search(text)\n",
    "\n",
    "if result3 != None:\n",
    "    email = ''.join(result3.split('\\n'))\n",
    "else:\n",
    "    email = ''\n",
    "    \n",
    "email"
   ]
  },
  {
   "cell_type": "markdown",
   "metadata": {},
   "source": [
    "## Extract PDF using Tabula"
   ]
  },
  {
   "cell_type": "code",
   "execution_count": 61,
   "metadata": {},
   "outputs": [
    {
     "data": {
      "text/html": [
       "<div>\n",
       "<style scoped>\n",
       "    .dataframe tbody tr th:only-of-type {\n",
       "        vertical-align: middle;\n",
       "    }\n",
       "\n",
       "    .dataframe tbody tr th {\n",
       "        vertical-align: top;\n",
       "    }\n",
       "\n",
       "    .dataframe thead th {\n",
       "        text-align: right;\n",
       "    }\n",
       "</style>\n",
       "<table border=\"1\" class=\"dataframe\">\n",
       "  <thead>\n",
       "    <tr style=\"text-align: right;\">\n",
       "      <th></th>\n",
       "      <th>Unnamed: 0</th>\n",
       "      <th>Unnamed: 1</th>\n",
       "    </tr>\n",
       "  </thead>\n",
       "  <tbody>\n",
       "    <tr>\n",
       "      <th>0</th>\n",
       "      <td>Contact</td>\n",
       "      <td>Ashish Rawat</td>\n",
       "    </tr>\n",
       "    <tr>\n",
       "      <th>1</th>\n",
       "      <td>www.linkedin.com/in/ashish4rawat</td>\n",
       "      <td>Software Engineer Intern at Amazon</td>\n",
       "    </tr>\n",
       "    <tr>\n",
       "      <th>2</th>\n",
       "      <td>(LinkedIn)</td>\n",
       "      <td>New Delhi Area, India</td>\n",
       "    </tr>\n",
       "    <tr>\n",
       "      <th>3</th>\n",
       "      <td>Top Skills</td>\n",
       "      <td>Experience</td>\n",
       "    </tr>\n",
       "    <tr>\n",
       "      <th>4</th>\n",
       "      <td>Java</td>\n",
       "      <td>NaN</td>\n",
       "    </tr>\n",
       "    <tr>\n",
       "      <th>5</th>\n",
       "      <td>Android Development</td>\n",
       "      <td>Amazon</td>\n",
       "    </tr>\n",
       "    <tr>\n",
       "      <th>6</th>\n",
       "      <td>Firebase</td>\n",
       "      <td>Software Engineer Intern</td>\n",
       "    </tr>\n",
       "    <tr>\n",
       "      <th>7</th>\n",
       "      <td>NaN</td>\n",
       "      <td>January 2020 - Present (3 months)</td>\n",
       "    </tr>\n",
       "    <tr>\n",
       "      <th>8</th>\n",
       "      <td>NaN</td>\n",
       "      <td>Bengaluru Area, India</td>\n",
       "    </tr>\n",
       "    <tr>\n",
       "      <th>9</th>\n",
       "      <td>NaN</td>\n",
       "      <td>Halanx</td>\n",
       "    </tr>\n",
       "    <tr>\n",
       "      <th>10</th>\n",
       "      <td>NaN</td>\n",
       "      <td>Android Developer Intern</td>\n",
       "    </tr>\n",
       "    <tr>\n",
       "      <th>11</th>\n",
       "      <td>NaN</td>\n",
       "      <td>July 2019 - August 2019 (2 months)</td>\n",
       "    </tr>\n",
       "    <tr>\n",
       "      <th>12</th>\n",
       "      <td>NaN</td>\n",
       "      <td>Delhi Area, India</td>\n",
       "    </tr>\n",
       "    <tr>\n",
       "      <th>13</th>\n",
       "      <td>NaN</td>\n",
       "      <td>Crimson Insights</td>\n",
       "    </tr>\n",
       "    <tr>\n",
       "      <th>14</th>\n",
       "      <td>NaN</td>\n",
       "      <td>Android Developer Intern</td>\n",
       "    </tr>\n",
       "    <tr>\n",
       "      <th>15</th>\n",
       "      <td>NaN</td>\n",
       "      <td>July 2018 - August 2018 (2 months)</td>\n",
       "    </tr>\n",
       "    <tr>\n",
       "      <th>16</th>\n",
       "      <td>NaN</td>\n",
       "      <td>Rent-O-Roof</td>\n",
       "    </tr>\n",
       "    <tr>\n",
       "      <th>17</th>\n",
       "      <td>NaN</td>\n",
       "      <td>Android Developer Intern</td>\n",
       "    </tr>\n",
       "    <tr>\n",
       "      <th>18</th>\n",
       "      <td>NaN</td>\n",
       "      <td>February 2018 - April 2018 (3 months)</td>\n",
       "    </tr>\n",
       "    <tr>\n",
       "      <th>19</th>\n",
       "      <td>NaN</td>\n",
       "      <td>Student Zone</td>\n",
       "    </tr>\n",
       "    <tr>\n",
       "      <th>20</th>\n",
       "      <td>NaN</td>\n",
       "      <td>Android Developer Intern</td>\n",
       "    </tr>\n",
       "    <tr>\n",
       "      <th>21</th>\n",
       "      <td>NaN</td>\n",
       "      <td>October 2017 - January 2018 (4 months)</td>\n",
       "    </tr>\n",
       "    <tr>\n",
       "      <th>22</th>\n",
       "      <td>NaN</td>\n",
       "      <td>Education</td>\n",
       "    </tr>\n",
       "    <tr>\n",
       "      <th>23</th>\n",
       "      <td>NaN</td>\n",
       "      <td>Guru Gobind Singh Indraprastha University</td>\n",
       "    </tr>\n",
       "    <tr>\n",
       "      <th>24</th>\n",
       "      <td>NaN</td>\n",
       "      <td>Bachelor of Technology - BTech, Computer Scien...</td>\n",
       "    </tr>\n",
       "    <tr>\n",
       "      <th>25</th>\n",
       "      <td>NaN</td>\n",
       "      <td>Kendriya Vidyalaya</td>\n",
       "    </tr>\n",
       "    <tr>\n",
       "      <th>26</th>\n",
       "      <td>NaN</td>\n",
       "      <td>XII  · (2016)</td>\n",
       "    </tr>\n",
       "    <tr>\n",
       "      <th>27</th>\n",
       "      <td>NaN</td>\n",
       "      <td>Kendriya Vidyalaya</td>\n",
       "    </tr>\n",
       "    <tr>\n",
       "      <th>28</th>\n",
       "      <td>NaN</td>\n",
       "      <td>Xth  · (2014)</td>\n",
       "    </tr>\n",
       "    <tr>\n",
       "      <th>29</th>\n",
       "      <td>NaN</td>\n",
       "      <td>Page 1 of 1</td>\n",
       "    </tr>\n",
       "  </tbody>\n",
       "</table>\n",
       "</div>"
      ],
      "text/plain": [
       "                          Unnamed: 0  \\\n",
       "0                            Contact   \n",
       "1   www.linkedin.com/in/ashish4rawat   \n",
       "2                         (LinkedIn)   \n",
       "3                         Top Skills   \n",
       "4                               Java   \n",
       "5                Android Development   \n",
       "6                           Firebase   \n",
       "7                                NaN   \n",
       "8                                NaN   \n",
       "9                                NaN   \n",
       "10                               NaN   \n",
       "11                               NaN   \n",
       "12                               NaN   \n",
       "13                               NaN   \n",
       "14                               NaN   \n",
       "15                               NaN   \n",
       "16                               NaN   \n",
       "17                               NaN   \n",
       "18                               NaN   \n",
       "19                               NaN   \n",
       "20                               NaN   \n",
       "21                               NaN   \n",
       "22                               NaN   \n",
       "23                               NaN   \n",
       "24                               NaN   \n",
       "25                               NaN   \n",
       "26                               NaN   \n",
       "27                               NaN   \n",
       "28                               NaN   \n",
       "29                               NaN   \n",
       "\n",
       "                                           Unnamed: 1  \n",
       "0                                        Ashish Rawat  \n",
       "1                  Software Engineer Intern at Amazon  \n",
       "2                               New Delhi Area, India  \n",
       "3                                          Experience  \n",
       "4                                                 NaN  \n",
       "5                                              Amazon  \n",
       "6                            Software Engineer Intern  \n",
       "7                   January 2020 - Present (3 months)  \n",
       "8                               Bengaluru Area, India  \n",
       "9                                              Halanx  \n",
       "10                           Android Developer Intern  \n",
       "11                 July 2019 - August 2019 (2 months)  \n",
       "12                                  Delhi Area, India  \n",
       "13                                   Crimson Insights  \n",
       "14                           Android Developer Intern  \n",
       "15                 July 2018 - August 2018 (2 months)  \n",
       "16                                        Rent-O-Roof  \n",
       "17                           Android Developer Intern  \n",
       "18              February 2018 - April 2018 (3 months)  \n",
       "19                                       Student Zone  \n",
       "20                           Android Developer Intern  \n",
       "21             October 2017 - January 2018 (4 months)  \n",
       "22                                          Education  \n",
       "23          Guru Gobind Singh Indraprastha University  \n",
       "24  Bachelor of Technology - BTech, Computer Scien...  \n",
       "25                                 Kendriya Vidyalaya  \n",
       "26                                      XII  · (2016)  \n",
       "27                                 Kendriya Vidyalaya  \n",
       "28                                      Xth  · (2014)  \n",
       "29                                        Page 1 of 1  "
      ]
     },
     "execution_count": 61,
     "metadata": {},
     "output_type": "execute_result"
    }
   ],
   "source": [
    "dfs = tabula.read_pdf(file, pages='all', guess=False)\n",
    "dfs[0]"
   ]
  },
  {
   "cell_type": "code",
   "execution_count": 62,
   "metadata": {},
   "outputs": [
    {
     "ename": "ModuleNotFoundError",
     "evalue": "No module named 'spacy'",
     "output_type": "error",
     "traceback": [
      "\u001b[1;31m---------------------------------------------------------------------------\u001b[0m",
      "\u001b[1;31mModuleNotFoundError\u001b[0m                       Traceback (most recent call last)",
      "\u001b[1;32m<ipython-input-62-4fc26f6a52bf>\u001b[0m in \u001b[0;36m<module>\u001b[1;34m\u001b[0m\n\u001b[1;32m----> 1\u001b[1;33m \u001b[1;32mimport\u001b[0m \u001b[0mspacy\u001b[0m\u001b[1;33m\u001b[0m\u001b[1;33m\u001b[0m\u001b[0m\n\u001b[0m\u001b[0;32m      2\u001b[0m \u001b[1;32mfrom\u001b[0m \u001b[0mspacy\u001b[0m\u001b[1;33m.\u001b[0m\u001b[0mmatcher\u001b[0m \u001b[1;32mimport\u001b[0m \u001b[0mMatcher\u001b[0m\u001b[1;33m\u001b[0m\u001b[1;33m\u001b[0m\u001b[0m\n",
      "\u001b[1;31mModuleNotFoundError\u001b[0m: No module named 'spacy'"
     ]
    }
   ],
   "source": [
    "import spacy\n",
    "from spacy.matcher import Matcher"
   ]
  },
  {
   "cell_type": "code",
   "execution_count": null,
   "metadata": {},
   "outputs": [],
   "source": []
  }
 ],
 "metadata": {
  "colab": {
   "provenance": []
  },
  "kernelspec": {
   "display_name": "Python 3",
   "language": "python",
   "name": "python3"
  },
  "language_info": {
   "codemirror_mode": {
    "name": "ipython",
    "version": 3
   },
   "file_extension": ".py",
   "mimetype": "text/x-python",
   "name": "python",
   "nbconvert_exporter": "python",
   "pygments_lexer": "ipython3",
   "version": "3.8.5"
  }
 },
 "nbformat": 4,
 "nbformat_minor": 1
}
