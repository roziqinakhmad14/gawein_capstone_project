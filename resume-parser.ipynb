{
 "cells": [
  {
   "cell_type": "code",
   "execution_count": 2,
   "metadata": {},
   "outputs": [],
   "source": [
    "from docx import Document"
   ]
  },
  {
   "cell_type": "code",
   "execution_count": 17,
   "metadata": {},
   "outputs": [],
   "source": [
    "doc = Document('IOS1.docx')"
   ]
  },
  {
   "cell_type": "code",
   "execution_count": 18,
   "metadata": {},
   "outputs": [],
   "source": [
    "paragraphs = doc.paragraphs"
   ]
  },
  {
   "cell_type": "code",
   "execution_count": 19,
   "metadata": {},
   "outputs": [
    {
     "name": "stdout",
     "output_type": "stream",
     "text": [
      "Samantha Ru\n",
      "IOS DEVELOPER \n",
      "\n",
      "\n",
      "\t+1-202-555-0135\tNew York, US\tlinkedin.com/in/sam\n",
      "\n",
      "\n",
      "Summary\n",
      "4.7 years of experience in developing applications on IOS Work experience in swift programming\n",
      "Decent knowledge MVC Architecture\n",
      "Experience in using SOAP, REST-based Web Services Good knowledge on push notification integration Experience in App submission to the app store Excellent communication skills\n",
      "Passionate to secure a challenging position in a reputable organization to expand my learnings, knowledge, and skills.\n",
      "\n",
      "Experience\n",
      "iOS Developer\n",
      "Edu-Tech Solutions LLC Jul 2017 - Present\n",
      "As a Developer i am responsible in\n",
      "Gathering the requirments Create UIDesigns screens\n",
      "Total end-end development and Uploading the app to AppStore\n",
      "\n",
      "\n",
      "Projects\n",
      "NY Model School IOS App Developer\n",
      "Project Details:\n",
      "Project Name: NY Model School\n",
      "Client: NY Model International Public School Role: Developer\n",
      "Organization: My Class Board Educational Solutions Tools: XCode\n",
      "Technologies: IOS -10,Swift\n",
      "Project Description:\n",
      "This application is developed to constantly update parents about their child school activities also build a parent-teacher association. They can check grades, attendance status, assignments, and more. Parents will constantly receive alerts regarding the latest announcements, pictures, etc. parents will be kept updated with everything that is happening at NY Model International Public School\n",
      "Silver Tune IOS App Developer\n",
      "Project Details:\n",
      "Project Name: Silver Tune Client: Silver Tune\n",
      "\n",
      "Skills\n",
      "Swift,Objective -c Tools: XCode\n",
      "FrameWorks: Cccoa Touch\n",
      "Data Storage: Sqlite,Plist,NSUserDefaults\n",
      "ParsingTechniques:XML,JSON WebServices: REST, SOAP\n",
      "\n",
      "Education\n",
      "Computer Science Engineering New York University of Technology\n",
      "Aug 2013 - Nov 2017\n",
      "with aggregate of 6.3%\n",
      "\n",
      "Higher Secondary Education The Texas Modal School\n",
      "Jun 2011 - May 2013\n",
      "with an aggregate of 78%\n",
      "\n",
      "\n",
      "Languages\n",
      "English German French Chines\n",
      "\n",
      "Certifications\n",
      "CCNA (Essentials)\n",
      "\n",
      "CCNA (Switching & Routing)\n",
      "\n",
      "Role: Developer\n",
      "Organization: My Class Board Educational Solutions Tools: XCode\n",
      "Technologies: IOS -10, swift\n",
      "Project Description:\n",
      "This application is developed to constantly update parents about their child school activities also build a parent-teacher association. They can check grades, attendance status, assignments, and more. Parents will constantly receive alerts regarding the latest announcements, pictures, etc. parents will be kept updated with everything that is happening at Silver Tune\n",
      "Bring-up International school Developer\n",
      "Project Details:\n",
      "Project Name: Bring-up International school Client: Bring-up International school\n",
      "Role: Developer\n",
      "Organization: My Class Board Educational Solutions Tools: XCode\n",
      "Technologies: IOS -10, swift\n",
      "Project Description:\n",
      "This application is developed to constantly update parents about their child school activities also build a parent-teacher association. They can check grades, attendance status, assignments, and more. Parents will constantly receive alerts regarding the latest announcements, pictures, etc. parents will be kept updated with everything that is happening at Bring-up\n"
     ]
    }
   ],
   "source": [
    "for p in paragraphs:\n",
    "    print(p.text)"
   ]
  },
  {
   "cell_type": "code",
   "execution_count": null,
   "metadata": {},
   "outputs": [],
   "source": []
  }
 ],
 "metadata": {
  "kernelspec": {
   "display_name": "Python 3",
   "language": "python",
   "name": "python3"
  },
  "language_info": {
   "codemirror_mode": {
    "name": "ipython",
    "version": 3
   },
   "file_extension": ".py",
   "mimetype": "text/x-python",
   "name": "python",
   "nbconvert_exporter": "python",
   "pygments_lexer": "ipython3",
   "version": "3.8.5"
  }
 },
 "nbformat": 4,
 "nbformat_minor": 4
}
